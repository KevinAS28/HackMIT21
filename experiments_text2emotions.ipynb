{
    "cells": [
        {
            "cell_type": "code",
            "execution_count": 1,
            "source": [
                "from ebook_tools import *\n",
                "from text2emotion import get_emotion"
            ],
            "outputs": [],
            "metadata": {}
        },
        {
            "cell_type": "code",
            "execution_count": null,
            "source": [
                "chapters_paragraphs = epub2pea()\n",
                "for chapter in chapters_paragraphs:\n",
                "    for pea in chapter:\n",
                "        to_scan = '. \\n '.join(pea)\n",
                "        print(get_emotion(to_scan))\n",
                "        print('+'*10)\n",
                "    print('='*20, '\\n')"
            ],
            "outputs": [],
            "metadata": {}
        }
    ],
    "metadata": {
        "orig_nbformat": 4,
        "language_info": {
            "name": "python",
            "version": "3.7.6",
            "mimetype": "text/x-python",
            "codemirror_mode": {
                "name": "ipython",
                "version": 3
            },
            "pygments_lexer": "ipython3",
            "nbconvert_exporter": "python",
            "file_extension": ".py"
        },
        "kernelspec": {
            "name": "python3",
            "display_name": "Python 3.7.6 64-bit ('base': conda)"
        },
        "interpreter": {
            "hash": "c2fcc392ae9644aef06945eadf218bf12da9b21967cdfd459a4f1142b346d505"
        }
    },
    "nbformat": 4,
    "nbformat_minor": 2
}